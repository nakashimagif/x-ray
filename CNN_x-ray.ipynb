{
 "cells": [
  {
   "cell_type": "markdown",
   "metadata": {
    "toc": true
   },
   "source": [
    "<h1>Table of Contents<span class=\"tocSkip\"></span></h1>\n",
    "<div class=\"toc\"><ul class=\"toc-item\"></ul></div>"
   ]
  },
  {
   "cell_type": "code",
   "execution_count": 1,
   "metadata": {
    "ExecuteTime": {
     "end_time": "2018-07-17T14:03:35.408512Z",
     "start_time": "2018-07-17T14:03:24.624860Z"
    }
   },
   "outputs": [
    {
     "name": "stderr",
     "output_type": "stream",
     "text": [
      "Using TensorFlow backend.\n"
     ]
    }
   ],
   "source": [
    "import os\n",
    "import shutil\n",
    "import numpy as np\n",
    "import pandas as pd\n",
    "import random\n",
    "import pathlib\n",
    "from keras import layers\n",
    "from keras import models\n",
    "from keras import optimizers\n",
    "from keras.utils import to_categorical\n",
    "from keras.preprocessing.image import array_to_img, img_to_array, list_pictures, load_img, ImageDataGenerator\n",
    "from sklearn.model_selection import train_test_split\n",
    "import matplotlib.pyplot as plt"
   ]
  },
  {
   "cell_type": "code",
   "execution_count": 2,
   "metadata": {
    "ExecuteTime": {
     "end_time": "2018-07-17T14:03:35.713947Z",
     "start_time": "2018-07-17T14:03:35.412740Z"
    }
   },
   "outputs": [
    {
     "data": {
      "text/plain": [
       "No Finding            60361\n",
       "Infiltration          19894\n",
       "Effusion              13317\n",
       "Atelectasis           11559\n",
       "Nodule                 6331\n",
       "Mass                   5782\n",
       "Pneumothorax           5302\n",
       "Consolidation          4667\n",
       "Pleural_Thickening     3385\n",
       "Cardiomegaly           2776\n",
       "Emphysema              2516\n",
       "Edema                  2303\n",
       "Fibrosis               1686\n",
       "Pneumonia              1431\n",
       "Hernia                  227\n",
       "Name: text, dtype: int64"
      ]
     },
     "execution_count": 2,
     "metadata": {},
     "output_type": "execute_result"
    }
   ],
   "source": [
    "df = pd.read_csv('Data_Entry_2017.csv', encoding='us-ascii')\n",
    "Findings = df[\"Finding Labels\"].str.split('|')\n",
    "Findings_list = [word for word_inner in Findings for word in word_inner]\n",
    "Findings_list = pd.DataFrame(Findings_list, columns=['text'])\n",
    "Findings_list['text'].value_counts()"
   ]
  },
  {
   "cell_type": "code",
   "execution_count": 17,
   "metadata": {
    "ExecuteTime": {
     "end_time": "2018-07-17T15:54:47.561353Z",
     "start_time": "2018-07-17T15:54:47.417147Z"
    }
   },
   "outputs": [],
   "source": [
    "test_list = []\n",
    "with open('test_list.txt', 'r') as f:\n",
    "    for row in f:\n",
    "        test_list.append(row.rsplit()[0])\n",
    "\n",
    "df['test_train'] = df['Image Index'].isin(test_list).apply(\n",
    "    lambda x: 'test' if x == True else 'train')\n",
    "df['pos_neg'] = (df['Finding Labels'] !=\n",
    "                 'No Finding').apply(lambda x: 'pos' if x == True else 'neg')\n",
    "\n",
    "origin_dir = './images'\n",
    "dir_tt = ['train', 'test']\n",
    "dir_pn = ['pos', 'neg']\n",
    "trashbox_dir = os.path.join(origin_dir, 'trashbox')\n",
    "\n",
    "for tt in dir_tt:\n",
    "    for pn in dir_pn:\n",
    "        dst_dir = os.path.join(origin_dir, tt, pn)\n",
    "        os.makedirs(dst_dir, exist_ok=True)\n",
    "        images_folder = os.listdir(origin_dir)\n",
    "        all_list = list(\n",
    "            df.query('test_train == @tt and pos_neg == @pn')['Image Index'])\n",
    "        target_list = [file for file in images_folder if file in all_list]\n",
    "        for target in target_list:\n",
    "            sfile = os.path.join(origin_dir, target)\n",
    "            shutil.move(sfile, dst_dir)"
   ]
  },
  {
   "cell_type": "code",
   "execution_count": 18,
   "metadata": {
    "ExecuteTime": {
     "end_time": "2018-07-17T15:54:55.494459Z",
     "start_time": "2018-07-17T15:54:55.472676Z"
    }
   },
   "outputs": [],
   "source": [
    "def move_trashbox(prop, keep):\n",
    "    for tt in dir_tt:\n",
    "        for pn in dir_pn:\n",
    "            dst_dir = os.path.join(trashbox_dir, tt, pn)\n",
    "            src_dir = os.path.join(origin_dir, tt, pn)\n",
    "            os.makedirs(dst_dir, exist_ok=True)\n",
    "            src_list = os.listdir(src_dir)\n",
    "            temp_size = int(len(src_list) * prop)\n",
    "            temp_list = random.sample(src_list, temp_size)\n",
    "            if keep == True:\n",
    "                target_list = [\n",
    "                    target for target in src_list if target not in temp_list\n",
    "                ]\n",
    "            if keep == False:\n",
    "                target_list = temp_list\n",
    "            for target in target_list:\n",
    "                sfile = os.path.join(src_dir, target)\n",
    "                shutil.move(sfile, dst_dir)\n",
    "\n",
    "\n",
    "def restore_trashbox(prop):\n",
    "    for tt in dir_tt:\n",
    "        for pn in dir_pn:\n",
    "            dst_dir = os.path.join(origin_dir, tt, pn)\n",
    "            src_dir = os.path.join(dir_trashbox, tt, pn)\n",
    "            src_list = os.listdir(src_dir)\n",
    "            temp_size = int(len(src_list) * prop)\n",
    "            target_list = random.sample(src_list, temp_size)\n",
    "            for target in target_list:\n",
    "                sfile = os.path.join(src_dir, target)\n",
    "                shutil.move(sfile, dst_dir)"
   ]
  },
  {
   "cell_type": "code",
   "execution_count": 19,
   "metadata": {
    "ExecuteTime": {
     "end_time": "2018-07-17T15:54:58.752244Z",
     "start_time": "2018-07-17T15:54:58.288380Z"
    }
   },
   "outputs": [],
   "source": [
    "move_trashbox(prop=0.1, keep=True)\n",
    "#restore_trashbox(prop=1)"
   ]
  },
  {
   "cell_type": "code",
   "execution_count": 48,
   "metadata": {
    "ExecuteTime": {
     "end_time": "2018-07-17T16:48:19.108423Z",
     "start_time": "2018-07-17T16:42:46.564400Z"
    }
   },
   "outputs": [
    {
     "name": "stdout",
     "output_type": "stream",
     "text": [
      "_________________________________________________________________\n",
      "Layer (type)                 Output Shape              Param #   \n",
      "=================================================================\n",
      "conv2d_49 (Conv2D)           (None, 1022, 1022, 32)    320       \n",
      "_________________________________________________________________\n",
      "max_pooling2d_49 (MaxPooling (None, 511, 511, 32)      0         \n",
      "_________________________________________________________________\n",
      "conv2d_50 (Conv2D)           (None, 509, 509, 64)      18496     \n",
      "_________________________________________________________________\n",
      "max_pooling2d_50 (MaxPooling (None, 254, 254, 64)      0         \n",
      "_________________________________________________________________\n",
      "conv2d_51 (Conv2D)           (None, 252, 252, 64)      36928     \n",
      "_________________________________________________________________\n",
      "max_pooling2d_51 (MaxPooling (None, 126, 126, 64)      0         \n",
      "_________________________________________________________________\n",
      "conv2d_52 (Conv2D)           (None, 124, 124, 128)     73856     \n",
      "_________________________________________________________________\n",
      "max_pooling2d_52 (MaxPooling (None, 62, 62, 128)       0         \n",
      "_________________________________________________________________\n",
      "conv2d_53 (Conv2D)           (None, 60, 60, 128)       147584    \n",
      "_________________________________________________________________\n",
      "max_pooling2d_53 (MaxPooling (None, 30, 30, 128)       0         \n",
      "_________________________________________________________________\n",
      "conv2d_54 (Conv2D)           (None, 28, 28, 256)       295168    \n",
      "_________________________________________________________________\n",
      "max_pooling2d_54 (MaxPooling (None, 14, 14, 256)       0         \n",
      "_________________________________________________________________\n",
      "flatten_9 (Flatten)          (None, 50176)             0         \n",
      "_________________________________________________________________\n",
      "dropout_9 (Dropout)          (None, 50176)             0         \n",
      "_________________________________________________________________\n",
      "dense_17 (Dense)             (None, 512)               25690624  \n",
      "_________________________________________________________________\n",
      "dense_18 (Dense)             (None, 1)                 513       \n",
      "=================================================================\n",
      "Total params: 26,263,489\n",
      "Trainable params: 26,263,489\n",
      "Non-trainable params: 0\n",
      "_________________________________________________________________\n",
      "Found 1253 images belonging to 2 classes.\n",
      "Found 245 images belonging to 2 classes.\n",
      "Epoch 1/8\n",
      "156/156 [==============================] - 42s - loss: 5.9971 - acc: 0.6250 - val_loss: 10.0738 - val_acc: 0.3750\n",
      "Epoch 2/8\n",
      "156/156 [==============================] - 40s - loss: 6.0210 - acc: 0.6264 - val_loss: 9.8220 - val_acc: 0.3906\n",
      "Epoch 3/8\n",
      "156/156 [==============================] - 40s - loss: 6.0598 - acc: 0.6240 - val_loss: 9.0664 - val_acc: 0.4375\n",
      "Epoch 4/8\n",
      "156/156 [==============================] - 40s - loss: 5.9746 - acc: 0.6293 - val_loss: 11.6262 - val_acc: 0.2787\n",
      "Epoch 5/8\n",
      "156/156 [==============================] - 41s - loss: 6.0392 - acc: 0.6253 - val_loss: 8.5627 - val_acc: 0.4688\n",
      "Epoch 6/8\n",
      "156/156 [==============================] - 42s - loss: 6.0469 - acc: 0.6248 - val_loss: 10.3257 - val_acc: 0.3594\n",
      "Epoch 7/8\n",
      "156/156 [==============================] - 41s - loss: 6.0392 - acc: 0.6253 - val_loss: 11.8904 - val_acc: 0.2623\n",
      "Epoch 8/8\n",
      "156/156 [==============================] - 41s - loss: 5.9048 - acc: 0.6337 - val_loss: 10.5775 - val_acc: 0.3438\n"
     ]
    }
   ],
   "source": [
    "k_size = (3, 3)\n",
    "p_size = (2, 2)\n",
    "model = models.Sequential()\n",
    "model.add(\n",
    "    layers.Conv2D(32, k_size, activation='relu', input_shape=(1024, 1024, 1)))\n",
    "model.add(layers.MaxPooling2D(p_size))\n",
    "model.add(layers.Conv2D(64, k_size, activation='relu'))\n",
    "model.add(layers.MaxPooling2D(p_size))\n",
    "model.add(layers.Conv2D(64, k_size, activation='relu'))\n",
    "model.add(layers.MaxPooling2D(p_size))\n",
    "model.add(layers.Conv2D(128, k_size, activation='relu'))\n",
    "model.add(layers.MaxPooling2D(p_size))\n",
    "model.add(layers.Conv2D(128, k_size, activation='relu'))\n",
    "model.add(layers.MaxPooling2D(p_size))\n",
    "model.add(layers.Conv2D(256, k_size, activation='relu'))\n",
    "model.add(layers.MaxPooling2D(p_size))\n",
    "model.add(layers.Flatten())\n",
    "model.add(layers.Dropout(0.5))\n",
    "model.add(layers.Dense(512, activation='relu'))\n",
    "model.add(layers.Dense(1, activation='sigmoid'))\n",
    "model.summary()\n",
    "\n",
    "model.compile(\n",
    "    optimizer='rmsprop', loss='binary_crossentropy', metrics=['accuracy'])\n",
    "# model.compile(\n",
    "#     optimizer=optimizers.Adam(lr=0.001, beta_1=0.9, beta_2=0.999),\n",
    "#     loss='binary_crossentropy',\n",
    "#     metrics=['accuracy'])\n",
    "\n",
    "train_datagen = ImageDataGenerator(rescale=1. / 255)\n",
    "test_datagen = ImageDataGenerator(rescale=1. / 255)\n",
    "\n",
    "batch_size = 8\n",
    "file_list = pathlib.Path(os.path.join(origin_dir, 'train'))\n",
    "file_number = len(list(file_list.glob('**/*.png')))\n",
    "steps_per_epoch = int(file_number / batch_size)\n",
    "\n",
    "train_generator = train_datagen.flow_from_directory(\n",
    "    os.path.join(origin_dir, 'train'),\n",
    "    target_size=(1024, 1024),\n",
    "    batch_size=batch_size,\n",
    "    class_mode='binary',\n",
    "    color_mode='grayscale')\n",
    "\n",
    "test_generator = test_datagen.flow_from_directory(\n",
    "    os.path.join(origin_dir, 'test'),\n",
    "    target_size=(1024, 1024),\n",
    "    batch_size=batch_size,\n",
    "    class_mode='binary',\n",
    "    color_mode='grayscale')\n",
    "\n",
    "history = model.fit_generator(\n",
    "    train_generator,\n",
    "    steps_per_epoch=steps_per_epoch,\n",
    "    epochs=8,\n",
    "    validation_data=test_generator,\n",
    "    validation_steps=batch_size)"
   ]
  },
  {
   "cell_type": "code",
   "execution_count": 49,
   "metadata": {
    "ExecuteTime": {
     "end_time": "2018-07-17T16:48:54.637180Z",
     "start_time": "2018-07-17T16:48:54.259551Z"
    }
   },
   "outputs": [
    {
     "data": {
      "image/png": "[encoded data removed]",
      "text/plain": [
       "<matplotlib.figure.Figure at 0x7fef5e29ec50>"
      ]
     },
     "metadata": {},
     "output_type": "display_data"
    },
    {
     "data": {
      "image/png": "[encoded data removed]",
      "text/plain": [
       "<matplotlib.figure.Figure at 0x7fef5c465940>"
      ]
     },
     "metadata": {},
     "output_type": "display_data"
    }
   ],
   "source": [
    "acc = history.history['acc']\n",
    "val_acc = history.history['val_acc']\n",
    "loss = history.history['loss']\n",
    "val_loss = history.history['val_loss']\n",
    "ephocs = range(1, len(acc) + 1)\n",
    "plt.plot(ephocs, acc, 'bo', label='Training acc')\n",
    "plt.plot(ephocs, val_acc, 'b', label='Validation acc')\n",
    "plt.title('Training and validation accurary')\n",
    "plt.legend()\n",
    "\n",
    "plt.figure()\n",
    "\n",
    "plt.plot(ephocs, loss, 'bo', label='Training loss')\n",
    "plt.plot(ephocs, val_loss, 'b', label='Validation loss')\n",
    "plt.title('Training and validation accurary')\n",
    "plt.legend()\n",
    "\n",
    "plt.show()"
   ]
  },
  {
   "cell_type": "code",
   "execution_count": 43,
   "metadata": {
    "ExecuteTime": {
     "end_time": "2018-07-17T16:37:34.728546Z",
     "start_time": "2018-07-17T16:37:34.715027Z"
    }
   },
   "outputs": [
    {
     "data": {
      "text/plain": [
       "0.49387755102040815"
      ]
     },
     "execution_count": 43,
     "metadata": {},
     "output_type": "execute_result"
    }
   ],
   "source": [
    "y_copy_1 = test_generator.classes.copy()\n",
    "y_copy_2 = test_generator.classes.copy()\n",
    "np.random.shuffle(y_copy_1)\n",
    "float(np.sum(y_copy_1==y_copy_2)/(len(y_copy_1)))"
   ]
  },
  {
   "cell_type": "code",
   "execution_count": null,
   "metadata": {},
   "outputs": [],
   "source": []
  }
 ],
 "metadata": {
  "anaconda-cloud": {},
  "kernelspec": {
   "display_name": "Python 3",
   "language": "python",
   "name": "python3"
  },
  "language_info": {
   "codemirror_mode": {
    "name": "ipython",
    "version": 3
   },
   "file_extension": ".py",
   "mimetype": "text/x-python",
   "name": "python",
   "nbconvert_exporter": "python",
   "pygments_lexer": "ipython3",
   "version": "3.5.2"
  },
  "toc": {
   "base_numbering": 1,
   "nav_menu": {},
   "number_sections": true,
   "sideBar": true,
   "skip_h1_title": false,
   "title_cell": "Table of Contents",
   "title_sidebar": "Contents",
   "toc_cell": true,
   "toc_position": {},
   "toc_section_display": true,
   "toc_window_display": false
  },
  "varInspector": {
   "cols": {
    "lenName": 16,
    "lenType": 16,
    "lenVar": 40
   },
   "kernels_config": {
    "python": {
     "delete_cmd_postfix": "",
     "delete_cmd_prefix": "del ",
     "library": "var_list.py",
     "varRefreshCmd": "print(var_dic_list())"
    },
    "r": {
     "delete_cmd_postfix": ") ",
     "delete_cmd_prefix": "rm(",
     "library": "var_list.r",
     "varRefreshCmd": "cat(var_dic_list()) "
    }
   },
   "position": {
    "height": "386px",
    "left": "8px",
    "right": "20px",
    "top": "24px",
    "width": "584px"
   },
   "types_to_exclude": [
    "module",
    "function",
    "builtin_function_or_method",
    "instance",
    "_Feature"
   ],
   "window_display": false
  }
 },
 "nbformat": 4,
 "nbformat_minor": 1
}
